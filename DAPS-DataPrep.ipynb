{
 "cells": [
  {
   "cell_type": "code",
   "execution_count": 1,
   "id": "1d06f508",
   "metadata": {},
   "outputs": [],
   "source": [
    "import glob\n",
    "import pickle\n",
    "import os\n",
    "import shutil\n",
    "\n",
    "from tqdm import tqdm\n",
    "\n",
    "from tamper_utils import *\n",
    "from utils import *\n",
    "import random"
   ]
  },
  {
   "cell_type": "markdown",
   "id": "93ebc7a9",
   "metadata": {},
   "source": [
    "### Create Tampered and Non-tampered Queries"
   ]
  },
  {
   "cell_type": "code",
   "execution_count": null,
   "id": "8b5d6d5b",
   "metadata": {},
   "outputs": [],
   "source": [
    "CLEAN_PATHS = glob.glob('daps-mp3/clean/*')  # with first 6 seconds of silences removed"
   ]
  },
  {
   "cell_type": "code",
   "execution_count": null,
   "id": "5300702c",
   "metadata": {},
   "outputs": [],
   "source": [
    "random.seed(42)"
   ]
  },
  {
   "cell_type": "code",
   "execution_count": null,
   "id": "c37a8486",
   "metadata": {},
   "outputs": [],
   "source": [
    "file = wave.open('daps-mp3/clean/f1_script1_clean.wav')\n",
    "SAMPLE_RATE = file.getframerate() \n",
    "SAMPLE_WIDTH = file.getsampwidth()"
   ]
  },
  {
   "cell_type": "code",
   "execution_count": null,
   "id": "1bfcc09a",
   "metadata": {},
   "outputs": [],
   "source": [
    "L = 10*SAMPLE_RATE *SAMPLE_WIDTH"
   ]
  },
  {
   "cell_type": "code",
   "execution_count": null,
   "id": "8acd69ec",
   "metadata": {},
   "outputs": [],
   "source": [
    "# Sample 10 10-second queries\n",
    "queries_path = 'daps-mp3/queries/'\n",
    "os.makedirs(queries_path, exist_ok=True)\n",
    "logpath = 'daps-mp3/queries/log.csv'\n",
    "with open(logpath, 'w') as fout:\n",
    "    fout.write(\"query_no,start(frames),end(frames),orig_audio\\n\")\n",
    "    \n",
    "    for file in tqdm(CLEAN_PATHS):\n",
    "        filename = file.split('/')[-1][:-4]\n",
    "        f = wave.open(file, 'rb')\n",
    "        frames = f.readframes(f.getnframes())\n",
    "        SAMPLE_RATE = f.getframerate()\n",
    "        SAMPLE_WIDTH = f.getsampwidth()\n",
    "        PARAMS = f.getparams()\n",
    "        L = 10* SAMPLE_RATE *SAMPLE_WIDTH\n",
    "        for i in range(10):\n",
    "\n",
    "            # pick a random speech region and a start point, then get sample audio segment\n",
    "            sample_start = random.randint(0, (len(frames)-L)//2) * 2\n",
    "            sample_frame = frames[sample_start:sample_start + L]\n",
    "\n",
    "            obj = wave.open(queries_path + f'/query_{i}_' + filename + '.wav', 'wb')\n",
    "            obj.setparams(PARAMS)\n",
    "            obj.writeframes(sample_frame)\n",
    "            obj.close()\n",
    "\n",
    "            fout.write(str(i) + ',' + str(sample_start) + ',' + str(sample_start + L) + ',' + file +'\\n')"
   ]
  },
  {
   "cell_type": "code",
   "execution_count": null,
   "id": "f55a9115",
   "metadata": {},
   "outputs": [],
   "source": [
    "# Generate queries with different bitrates\n",
    "query_paths = glob.glob('daps-mp3/queries/*.wav')\n",
    "for bitrate in [\"64k\", \"128k\", \"256k\"]:\n",
    "    for querypath in tqdm(sorted(query_paths)):\n",
    "        queryname = querypath.split('/')[-1][:-4]\n",
    "        sound = AudioSegment.from_file(querypath)\n",
    "        sound.export(f'daps-mp3/queries/{queryname}-{bitrate}.mp3', format=\"mp3\", bitrate=bitrate)\n",
    "        \n",
    "        # Convert back to wav to be able to calculate deltas and hashprints\n",
    "        sound_wav = AudioSegment.from_file(f'daps-mp3/queries/{queryname}-{bitrate}.mp3')\n",
    "        sound_wav.export(f'daps-mp3/queries/{queryname}-{bitrate}.wav', format=\"wav\")"
   ]
  },
  {
   "cell_type": "code",
   "execution_count": null,
   "id": "bc225ce2",
   "metadata": {},
   "outputs": [],
   "source": [
    "query_paths = glob.glob('daps-mp3/queries/*.wav')"
   ]
  },
  {
   "cell_type": "code",
   "execution_count": null,
   "id": "0434ebbd",
   "metadata": {},
   "outputs": [],
   "source": [
    "# Tamper\n",
    "random.seed(42)\n",
    "ONE_SEC = 1 * SAMPLE_RATE * SAMPLE_WIDTH\n",
    "queries_log = pd.read_csv('daps-mp3/queries/log.csv')\n",
    "\n",
    "for l in [0.25, 0.5, 1, 2, 4]:\n",
    "    L = int(l*SAMPLE_RATE*SAMPLE_WIDTH) # l seconds in frames\n",
    "\n",
    "    tampered_path = f'daps-mp3/tampered{l}/'\n",
    "    os.makedirs(tampered_path, exist_ok=True)\n",
    "    log_path = tampered_path + 'log.csv'\n",
    "\n",
    "    with open(log_path, 'w') as fout:\n",
    "        fout.write(\"tamper_type,query_no,time_instant,seg_start,seg_end,orig_audio\\n\")\n",
    "\n",
    "        for querypath in tqdm(sorted(query_paths)):\n",
    "            queryname = querypath.split('/')[-1][:-4]\n",
    "\n",
    "            query_no = int(queryname.split('/')[-1][:-4].split('_')[1])\n",
    "            orig_audio = '_'.join(queryname.split('_')[2:]) + '.wav'\n",
    "            orig_audio_path = 'daps-mp3/clean/' + orig_audio\n",
    "\n",
    "            f = wave.open(orig_audio_path, 'rb')\n",
    "            frames = f.readframes(f.getnframes())\n",
    "\n",
    "            query_log = queries_log.loc[queries_log['orig_audio'] == orig_audio_path].loc[queries_log['query_no']==query_no]\n",
    "            query_start, query_end = query_log['start(frames)'].item(), query_log['end(frames)'].item()\n",
    "            \n",
    "            ### UNTAMPERED ###\n",
    "            fout.write(\"NONE,\" + str(query_no) + ',' + 'None,None,None,' + orig_audio+ '\\n')\n",
    "\n",
    "            ### INSERTION ###\n",
    "            # select l second segment\n",
    "            sample_start = random.randint(0, (len(frames)-L)//2) * 2\n",
    "\n",
    "            # do not choose from the original segment\n",
    "            while sample_start >= query_start-(L+ONE_SEC) and sample_start <= query_end + ONE_SEC:\n",
    "                sample_start = random.randint(0, (len(frames)-L)//2) * 2\n",
    "\n",
    "            filler = frames[sample_start:sample_start + L]\n",
    "\n",
    "            # select start time btw seconds: [0, 10-l]\n",
    "            time_instant = random.randint(0, (10-l)*SAMPLE_RATE*SAMPLE_WIDTH//2) * 2\n",
    "\n",
    "            insert_segment(querypath, filler, time_instant, tampered_path+f'/ins_{query_no}_'+orig_audio, L)\n",
    "\n",
    "            fout.write(\"INS,\" + str(query_no) + ',' + str(time_instant) + ',' + str(sample_start) +\n",
    "                       ',' + str(sample_start+L) +','+ orig_audio+ '\\n')\n",
    "\n",
    "            ### DELETION ###\n",
    "\n",
    "            # select start time btw seconds: [1, 10-l-1]\n",
    "            time_instant = random.randint(SAMPLE_RATE*SAMPLE_WIDTH//2, (10-l-1)*SAMPLE_RATE*SAMPLE_WIDTH//2) * 2\n",
    "\n",
    "            delete_segment(querypath, time_instant, tampered_path+f'/del_{query_no}_'+orig_audio, L)\n",
    "\n",
    "            fout.write(\"DEL,\" + str(query_no) + ',' + str(time_instant) + ',None,None,' + orig_audio+ '\\n')\n",
    "\n",
    "\n",
    "            ### REPLACEMENT ###\n",
    "\n",
    "            # select l second segment\n",
    "            sample_start = random.randint(0, (len(frames)-L)//2) * 2\n",
    "\n",
    "            # do not choose from the original segment\n",
    "            while sample_start >= query_start-L and sample_start <= query_end:\n",
    "                sample_start = random.randint(0, (len(frames)-L)//2) * 2\n",
    "\n",
    "            filler = frames[sample_start:sample_start + L]\n",
    "\n",
    "            # select start time btw seconds: [0, 10-l]\n",
    "            time_instant = random.randint(0, (10-l)*SAMPLE_RATE*SAMPLE_WIDTH//2) * 2\n",
    "\n",
    "            replace_segment(querypath, filler, time_instant, tampered_path+f'/rep_{query_no}_'+orig_audio, L)\n",
    "\n",
    "            fout.write(\"REP,\" + str(query_no) + ',' + str(time_instant) + ',' + str(sample_start) +\n",
    "                       ',' + str(sample_start+L) +','+ orig_audio+ '\\n')\n"
   ]
  },
  {
   "cell_type": "code",
   "execution_count": null,
   "id": "e3afc406",
   "metadata": {},
   "outputs": [],
   "source": [
    "# Generate tampered queries with different bitrates\n",
    "for l in [0.25, 0.5, 1, 2, 4]:\n",
    "    query_paths = glob.glob(f'daps-mp3/tampered{l}/*.wav')\n",
    "    for bitrate in [\"64k\", \"128k\", \"256k\"]:\n",
    "        for querypath in tqdm(sorted(query_paths)):\n",
    "            queryname = querypath.split('/')[-1][:-4]\n",
    "            sound = AudioSegment.from_file(querypath)\n",
    "            sound.export(f'daps-mp3/tampered{l}/{queryname}-{bitrate}.mp3', format=\"mp3\", bitrate=bitrate)\n",
    "            \n",
    "            # Convert back to wav to be able to calculate deltas and hashprints\n",
    "            sound_wav = AudioSegment.from_file(f'daps-mp3/tampered{l}/{queryname}-{bitrate}.mp3')\n",
    "            sound_wav.export(f'daps-mp3/tampered{l}/{queryname}-{bitrate}.wav',  format=\"wav\")"
   ]
  },
  {
   "cell_type": "markdown",
   "id": "67214377",
   "metadata": {},
   "source": [
    "### Get Deltas, Hashprints, and Best Offsets"
   ]
  },
  {
   "cell_type": "code",
   "execution_count": 2,
   "id": "7fb18b08",
   "metadata": {},
   "outputs": [],
   "source": [
    "references = glob.glob('daps-mp3/clean/*.wav')\n",
    "queries = glob.glob('daps-mp3/queries/*.wav')\n",
    "tampered025 = glob.glob('daps-mp3/tampered0.25/*.wav')\n",
    "tampered05 = glob.glob('daps-mp3/tampered0.5/*.wav')\n",
    "tampered1 = glob.glob('daps-mp3/tampered1/*.wav')\n",
    "tampered2 = glob.glob('daps-mp3/tampered2/*.wav')\n",
    "tampered4 = glob.glob('daps-mp3/tampered4/*.wav')"
   ]
  },
  {
   "cell_type": "code",
   "execution_count": null,
   "id": "1efca522",
   "metadata": {},
   "outputs": [],
   "source": [
    "cfgObj = ConfigObj('./cfg_files/projev.cfg')"
   ]
  },
  {
   "cell_type": "code",
   "execution_count": 3,
   "id": "2c49e481",
   "metadata": {},
   "outputs": [],
   "source": [
    "# Compute and save filters\n",
    "masks = {}\n",
    "for ref in tqdm(references):\n",
    "    refname = ref.split('/')[-1][:-4]\n",
    "    mask = get_filter(ref, cfgObj)\n",
    "    masks[refname] = mask"
   ]
  },
  {
   "cell_type": "code",
   "execution_count": 4,
   "id": "6f8f3062",
   "metadata": {},
   "outputs": [],
   "source": [
    "with open('daps-mp3/filters.pkl', 'wb') as f:\n",
    "    pickle.dump(masks, f)"
   ]
  },
  {
   "cell_type": "code",
   "execution_count": 7,
   "id": "28e99360",
   "metadata": {},
   "outputs": [],
   "source": [
    "with open('daps-mp3/filters.pkl', 'rb') as f:\n",
    "    masks = pickle.load(f)"
   ]
  },
  {
   "cell_type": "code",
   "execution_count": null,
   "id": "ce6e3811",
   "metadata": {},
   "outputs": [],
   "source": [
    "# Save reference deltas and hashprints\n",
    "os.makedirs('daps-mp3/hashprints/refs/', exist_ok=True)\n",
    "os.makedirs('daps-mp3/deltas/refs/', exist_ok=True)\n",
    "for ref in tqdm(references):\n",
    "    refname = ref.split('/')[-1][:-4]\n",
    "    hps, C = get_hps_and_deltas(ref, cfgObj, maskMatrix=masks[refname])\n",
    "    np.save(f'daps-mp3/hashprints/refs/{refname}', hps)\n",
    "    np.save(f'daps-mp3/deltas/refs/{refname}', C)"
   ]
  },
  {
   "cell_type": "code",
   "execution_count": null,
   "id": "ff206f82",
   "metadata": {},
   "outputs": [],
   "source": [
    "# Save query deltas and hashprints\n",
    "folders = [queries, tampered025, tampered05, tampered1, tampered2, tampered4]\n",
    "offsets = {'queries': {}, 'tampered0.25': {}, 'tampered0.5': {}, 'tampered1': {}, 'tampered2': {}, 'tampered4': {}}\n",
    "for folder in folders:\n",
    "    foldername = folder[0].split('/')[1]\n",
    "    os.makedirs(f'daps-mp3/hashprints/{foldername}/', exist_ok=True)\n",
    "    os.makedirs(f'daps-mp3/deltas/{foldername}/', exist_ok=True)\n",
    "    for file in tqdm(folder):\n",
    "        refname = '_'.join(file.split('/')[-1].split('-')[-2].split('_')[2:5])\n",
    "        filename = file.split('/')[-1][:-4]\n",
    "        hps, C = get_hps_and_deltas(file, cfgObj, maskMatrix=masks[refname])\n",
    "        np.save(f'daps-mp3/hashprints/{foldername}/{filename}', hps)\n",
    "        np.save(f'daps-mp3/deltas/{foldername}/{filename}', C)\n",
    "        ref_hps = np.load(f'daps-mp3/hashprints/refs/{refname}.npy')\n",
    "        offset = find_offset(hps, ref_hps)\n",
    "        offsets[foldername][filename] = offset"
   ]
  },
  {
   "cell_type": "code",
   "execution_count": null,
   "id": "199fba6b",
   "metadata": {},
   "outputs": [],
   "source": [
    "# Log best offsets\n",
    "with open('daps-mp3/best_offsets.csv', 'w') as fout:\n",
    "    fout.write(\"folder,filename,offset\\n\")\n",
    "    for folder in offsets.keys():\n",
    "        for filename in folder.keys():\n",
    "            offset = offsets[folder][filename]\n",
    "            fout.write(f'{folder}, {filename},{offset}\\n')"
   ]
  },
  {
   "cell_type": "markdown",
   "id": "929f4a97",
   "metadata": {},
   "source": [
    "### Split into Train and Test"
   ]
  },
  {
   "cell_type": "code",
   "execution_count": 33,
   "id": "8c7a712e",
   "metadata": {},
   "outputs": [],
   "source": [
    "# Reference Deltas\n",
    "train_refs, test_refs = [], []\n",
    "for i in range(1,6):\n",
    "    train_refs.extend(glob.glob(f'daps-mp3/deltas/refs/f{i}_*'))\n",
    "    train_refs.extend(glob.glob(f'daps-mp3/deltas/refs/m{i}_*'))\n",
    "    test_refs.extend(glob.glob(f'daps-mp3/deltas/refs/f{i+5}_*'))\n",
    "    test_refs.extend(glob.glob(f'daps-mp3/deltas/refs/m{i+5}_*'))"
   ]
  },
  {
   "cell_type": "code",
   "execution_count": 36,
   "id": "cc659a64",
   "metadata": {},
   "outputs": [],
   "source": [
    "os.makedirs('daps-mp3/train/deltas/refs/', exist_ok=True)\n",
    "os.makedirs('daps-mp3/test/deltas/refs/', exist_ok=True)\n",
    "for path in train_refs:\n",
    "    shutil.copy(path, 'daps-mp3/train/deltas/refs/')\n",
    "for path in test_refs:\n",
    "    shutil.copy(path, 'daps-mp3/test/deltas/refs/')"
   ]
  },
  {
   "cell_type": "code",
   "execution_count": 41,
   "id": "ab55fcbc",
   "metadata": {},
   "outputs": [],
   "source": [
    "# Reference Hashprints\n",
    "train_refs, test_refs = [], []\n",
    "for i in range(1,6):\n",
    "    train_refs.extend(glob.glob(f'daps-mp3/hashprints/refs/f{i}_*'))\n",
    "    train_refs.extend(glob.glob(f'daps-mp3/hashprints/refs/m{i}_*'))\n",
    "    test_refs.extend(glob.glob(f'daps-mp3/hashprints/refs/f{i+5}_*'))\n",
    "    test_refs.extend(glob.glob(f'daps-mp3/hashprints/refs/m{i+5}_*'))"
   ]
  },
  {
   "cell_type": "code",
   "execution_count": null,
   "id": "bbdaf21c",
   "metadata": {},
   "outputs": [],
   "source": [
    "os.makedirs('daps-mp3/train/hashprints/refs/', exist_ok=True)\n",
    "os.makedirs('daps-mp3/test/hashprints/refs/', exist_ok=True)\n",
    "for path in train_refs:\n",
    "    shutil.copy(path, 'daps-mp3/train/hashprints/refs/')\n",
    "for path in test_refs:\n",
    "    shutil.copy(path, 'daps-mp3/test/hashprints/refs/')"
   ]
  },
  {
   "cell_type": "code",
   "execution_count": 10,
   "id": "1ef073ef",
   "metadata": {},
   "outputs": [],
   "source": [
    "query_folders = ['queries', 'tampered0.25', 'tampered0.5', 'tampered1', 'tampered2', 'tampered4']"
   ]
  },
  {
   "cell_type": "code",
   "execution_count": 18,
   "id": "8caa1f8d",
   "metadata": {},
   "outputs": [],
   "source": [
    "# Query Deltas\n",
    "train_lst, test_lst = [], []\n",
    "for i in range(1,6):\n",
    "    for folder in query_folders:\n",
    "        train_lst.extend(glob.glob(f'daps-mp3/deltas/{folder}/*f{i}_*'))\n",
    "        train_lst.extend(glob.glob(f'daps-mp3/deltas/{folder}/*m{i}_*'))\n",
    "        test_lst.extend(glob.glob(f'daps-mp3/deltas/{folder}/*f{i+5}_*'))\n",
    "        test_lst.extend(glob.glob(f'daps-mp3/deltas/{folder}/*m{i+5}_*'))"
   ]
  },
  {
   "cell_type": "code",
   "execution_count": null,
   "id": "795a867e",
   "metadata": {},
   "outputs": [],
   "source": [
    "for path in train_lst:\n",
    "    folder = path.split('/')[2]\n",
    "    os.makedirs(f'daps-mp3/train/deltas/{folder}/', exist_ok=True)\n",
    "    shutil.copy(path, f'daps-mp3/train/deltas/{folder}/')\n",
    "for path in test_lst:\n",
    "    folder = path.split('/')[2]\n",
    "    os.makedirs(f'daps-mp3/test/deltas/{folder}/', exist_ok=True)\n",
    "    shutil.copy(path, f'daps-mp3/test/deltas/{folder}/')"
   ]
  },
  {
   "cell_type": "code",
   "execution_count": null,
   "id": "78761539",
   "metadata": {},
   "outputs": [],
   "source": [
    "# Query Hashprints\n",
    "train_lst, test_lst = [], []\n",
    "for i in range(1,6):\n",
    "    for folder in query_folders:\n",
    "        train_lst.extend(glob.glob(f'daps-mp3/hashprints/{folder}/*f{i}_*'))\n",
    "        train_lst.extend(glob.glob(f'daps-mp3/hashprints/{folder}/*m{i}_*'))\n",
    "        test_lst.extend(glob.glob(f'daps-mp3/hashprints/{folder}/*f{i+5}_*'))\n",
    "        test_lst.extend(glob.glob(f'daps-mp3/hashprints/{folder}/*m{i+5}_*'))"
   ]
  },
  {
   "cell_type": "code",
   "execution_count": null,
   "id": "4e555a88",
   "metadata": {},
   "outputs": [],
   "source": [
    "for path in train_lst:\n",
    "    folder = path.split('/')[2]\n",
    "    os.makedirs(f'daps-mp3/train/hashprints/{folder}/', exist_ok=True)\n",
    "    shutil.copy(path, f'daps-mp3/train/hashprints/{folder}/')\n",
    "for path in test_lst:\n",
    "    folder = path.split('/')[2]\n",
    "    os.makedirs(f'daps-mp3/test/hashprints/{folder}/', exist_ok=True)\n",
    "    shutil.copy(path, f'daps-mp3/test/hashprints/{folder}/')"
   ]
  }
 ],
 "metadata": {
  "kernelspec": {
   "display_name": "Python 3 (ipykernel)",
   "language": "python",
   "name": "python3"
  },
  "language_info": {
   "codemirror_mode": {
    "name": "ipython",
    "version": 3
   },
   "file_extension": ".py",
   "mimetype": "text/x-python",
   "name": "python",
   "nbconvert_exporter": "python",
   "pygments_lexer": "ipython3",
   "version": "3.9.12"
  }
 },
 "nbformat": 4,
 "nbformat_minor": 5
}
