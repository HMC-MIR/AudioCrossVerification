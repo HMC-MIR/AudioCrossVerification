{
 "cells": [
  {
   "cell_type": "code",
   "execution_count": 1,
   "id": "83ef12cd",
   "metadata": {},
   "outputs": [],
   "source": [
    "import numpy as np\n",
    "import pickle\n",
    "import librosa\n",
    "from scipy.spatial.distance import cdist\n",
    "import python_speech_features\n",
    "from sklearn.metrics.pairwise import euclidean_distances\n",
    "import numba\n",
    "from matplotlib import pyplot as plt\n",
    "from librosa.sequence import dtw\n",
    "from matplotlib import gridspec\n",
    "import time\n",
    "import os\n",
    "from tqdm import tqdm\n",
    "import glob\n",
    "import shutil"
   ]
  },
  {
   "cell_type": "code",
   "execution_count": 5,
   "id": "d761c640",
   "metadata": {},
   "outputs": [],
   "source": [
    "def getMFCC(file_dir):\n",
    "    y, sr = librosa.load(file_dir, sr=44100)\n",
    "    mfcc = python_speech_features.mfcc(y, sr, winstep=0.01, nfft=2048)\n",
    "    delta_mfcc = python_speech_features.delta(mfcc, 2)\n",
    "    delta_delta_mfcc = python_speech_features.delta(mfcc, 3)\n",
    "    mfcc = np.hstack((np.hstack((mfcc, delta_mfcc)),delta_delta_mfcc))\n",
    "    return mfcc"
   ]
  },
  {
   "cell_type": "code",
   "execution_count": 6,
   "id": "b524131c",
   "metadata": {},
   "outputs": [],
   "source": [
    "references = glob.glob('daps-mp3/clean/*.wav')\n",
    "queries = glob.glob('daps-mp3/queries/*.wav')\n",
    "tampered025 = glob.glob('daps-mp3/tampered0.25/*.wav')\n",
    "tampered05 = glob.glob('daps-mp3/tampered0.5/*.wav')\n",
    "tampered1 = glob.glob('daps-mp3/tampered1/*.wav')\n",
    "tampered2 = glob.glob('daps-mp3/tampered2/*.wav')\n",
    "tampered4 = glob.glob('daps-mp3/tampered4/*.wav')"
   ]
  },
  {
   "cell_type": "code",
   "execution_count": 14,
   "id": "d4ca5ff6",
   "metadata": {},
   "outputs": [
    {
     "name": "stderr",
     "output_type": "stream",
     "text": [
      "100%|█████████████████████████████████████████| 100/100 [01:25<00:00,  1.17it/s]\n"
     ]
    }
   ],
   "source": [
    "os.makedirs('daps-mp3/mfccs-44k/refs/', exist_ok=True)\n",
    "for ref in tqdm(references):\n",
    "    refname = ref.split('/')[-1][:-4]\n",
    "    mfcc = getMFCC(ref)\n",
    "    np.save(f'daps-mp3/mfccs-44k/refs/{refname}', mfcc)"
   ]
  },
  {
   "cell_type": "code",
   "execution_count": 17,
   "id": "7b2862d4",
   "metadata": {},
   "outputs": [
    {
     "name": "stderr",
     "output_type": "stream",
     "text": [
      "100%|███████████████████████████████████████| 3000/3000 [07:38<00:00,  6.54it/s]\n",
      "100%|███████████████████████████████████████| 9000/9000 [26:03<00:00,  5.76it/s]\n",
      "100%|███████████████████████████████████████| 9000/9000 [23:36<00:00,  6.36it/s]\n",
      "100%|███████████████████████████████████████| 9000/9000 [23:16<00:00,  6.44it/s]\n",
      "100%|███████████████████████████████████████| 9000/9000 [23:20<00:00,  6.42it/s]\n",
      "100%|███████████████████████████████████████| 9000/9000 [23:51<00:00,  6.29it/s]\n"
     ]
    }
   ],
   "source": [
    "os.makedirs('daps-mp3/mfccs-44k/refs/', exist_ok=True)\n",
    "folders = [queries, tampered025, tampered05, tampered1, tampered2, tampered4]\n",
    "for folder in folders:\n",
    "    foldername = folder[0].split('/')[1]\n",
    "    os.makedirs(f'daps-mp3/mfccs-44k/{foldername}/', exist_ok=True)\n",
    "    for file in tqdm(folder):\n",
    "        refname = '_'.join(file.split('/')[-1].split('-')[-2].split('_')[2:5])\n",
    "        filename = file.split('/')[-1][:-4]\n",
    "        mfcc = getMFCC(file)\n",
    "        np.save(f'daps-mp3/mfccs-44k/{foldername}/{filename}', mfcc)"
   ]
  },
  {
   "cell_type": "code",
   "execution_count": 18,
   "id": "b344d2f8",
   "metadata": {},
   "outputs": [
    {
     "ename": "NameError",
     "evalue": "name 'shutil' is not defined",
     "output_type": "error",
     "traceback": [
      "\u001b[0;31m---------------------------------------------------------------------------\u001b[0m",
      "\u001b[0;31mNameError\u001b[0m                                 Traceback (most recent call last)",
      "Input \u001b[0;32mIn [18]\u001b[0m, in \u001b[0;36m<cell line: 10>\u001b[0;34m()\u001b[0m\n\u001b[1;32m      9\u001b[0m os\u001b[38;5;241m.\u001b[39mmakedirs(\u001b[38;5;124m'\u001b[39m\u001b[38;5;124mdaps-mp3/test/mfccs/refs/\u001b[39m\u001b[38;5;124m'\u001b[39m, exist_ok\u001b[38;5;241m=\u001b[39m\u001b[38;5;28;01mTrue\u001b[39;00m)\n\u001b[1;32m     10\u001b[0m \u001b[38;5;28;01mfor\u001b[39;00m path \u001b[38;5;129;01min\u001b[39;00m train_refs:\n\u001b[0;32m---> 11\u001b[0m     \u001b[43mshutil\u001b[49m\u001b[38;5;241m.\u001b[39mcopy(path, \u001b[38;5;124m'\u001b[39m\u001b[38;5;124mdaps-mp3/train/mfccs/refs/\u001b[39m\u001b[38;5;124m'\u001b[39m)\n\u001b[1;32m     12\u001b[0m \u001b[38;5;28;01mfor\u001b[39;00m path \u001b[38;5;129;01min\u001b[39;00m test_refs:\n\u001b[1;32m     13\u001b[0m     shutil\u001b[38;5;241m.\u001b[39mcopy(path, \u001b[38;5;124m'\u001b[39m\u001b[38;5;124mdaps-mp3/test/mfccs/refs/\u001b[39m\u001b[38;5;124m'\u001b[39m)\n",
      "\u001b[0;31mNameError\u001b[0m: name 'shutil' is not defined"
     ]
    }
   ],
   "source": [
    "train_refs, test_refs = [], []\n",
    "for i in range(1,6):\n",
    "    train_refs.extend(glob.glob(f'daps-mp3/mfccs-44k/refs/f{i}_*'))\n",
    "    train_refs.extend(glob.glob(f'daps-mp3/mfccs-44k/refs/m{i}_*'))\n",
    "    test_refs.extend(glob.glob(f'daps-mp3/mfccs-44k/refs/f{i+5}_*'))\n",
    "    test_refs.extend(glob.glob(f'daps-mp3/mfccs-44k/refs/m{i+5}_*'))\n",
    "\n",
    "os.makedirs('daps-mp3/train/mfccs-44k/refs/', exist_ok=True)\n",
    "os.makedirs('daps-mp3/test/mfccs-44k/refs/', exist_ok=True)\n",
    "for path in train_refs:\n",
    "    shutil.copy(path, 'daps-mp3/train/mfccs-44k/refs/')\n",
    "for path in test_refs:\n",
    "    shutil.copy(path, 'daps-mp3/test/mfccs-44k/refs/')"
   ]
  },
  {
   "cell_type": "code",
   "execution_count": null,
   "id": "ecb4f6d3",
   "metadata": {},
   "outputs": [],
   "source": [
    "query_folders = ['queries', 'tampered0.25', 'tampered0.5', 'tampered1', 'tampered2', 'tampered4']\n",
    "\n",
    "train_lst, test_lst = [], []\n",
    "for i in range(1,6):\n",
    "    for folder in query_folders:\n",
    "        train_lst.extend(glob.glob(f'daps-mp3/mfccs-44k/{folder}/*f{i}_*'))\n",
    "        train_lst.extend(glob.glob(f'daps-mp3/mfccs-44k/{folder}/*m{i}_*'))\n",
    "        test_lst.extend(glob.glob(f'daps-mp3/mfccs-44k/{folder}/*f{i+5}_*'))\n",
    "        test_lst.extend(glob.glob(f'daps-mp3/mfccs-44k/{folder}/*m{i+5}_*'))\n",
    "\n",
    "for path in train_lst:\n",
    "    folder = path.split('/')[2]\n",
    "    os.makedirs(f'daps-mp3/train/mfccs-44k/{folder}/', exist_ok=True)\n",
    "    shutil.copy(path, f'daps-mp3/train/mfccs-44k/{folder}/')\n",
    "    \n",
    "for path in test_lst:\n",
    "    folder = path.split('/')[2]\n",
    "    os.makedirs(f'daps-mp3/test/mfccs-44k/{folder}/', exist_ok=True)\n",
    "    shutil.copy(path, f'daps-mp3/test/mfccs-44k/{folder}/')"
   ]
  },
  {
   "cell_type": "code",
   "execution_count": null,
   "id": "91f5eeb0",
   "metadata": {},
   "outputs": [],
   "source": []
  }
 ],
 "metadata": {
  "kernelspec": {
   "display_name": "Python 3 (ipykernel)",
   "language": "python",
   "name": "python3"
  },
  "language_info": {
   "codemirror_mode": {
    "name": "ipython",
    "version": 3
   },
   "file_extension": ".py",
   "mimetype": "text/x-python",
   "name": "python",
   "nbconvert_exporter": "python",
   "pygments_lexer": "ipython3",
   "version": "3.9.12"
  }
 },
 "nbformat": 4,
 "nbformat_minor": 5
}
