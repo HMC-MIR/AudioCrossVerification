{
 "cells": [
  {
   "cell_type": "markdown",
   "id": "675526d8",
   "metadata": {},
   "source": [
    "# MFCC-Euclidean baseline"
   ]
  },
  {
   "cell_type": "code",
   "execution_count": 1,
   "id": "109961a1",
   "metadata": {},
   "outputs": [],
   "source": [
    "import numpy as np\n",
    "import pickle\n",
    "import librosa\n",
    "from scipy.spatial.distance import cdist\n",
    "import python_speech_features\n",
    "import numba\n",
    "from matplotlib import pyplot as plt\n",
    "from matplotlib import gridspec\n",
    "import time\n",
    "import os\n",
    "import pandas as pd\n",
    "import glob\n",
    "from tqdm import tqdm\n",
    "from multiprocessing import Pool\n",
    "from multiprocessing import cpu_count\n",
    "from scipy.optimize import brentq\n",
    "from scipy.interpolate import interp1d\n",
    "from sklearn.metrics import roc_curve, auc\n",
    "from offset import find_offset as offset_hps"
   ]
  },
  {
   "cell_type": "code",
   "execution_count": 2,
   "id": "80389eac",
   "metadata": {},
   "outputs": [],
   "source": [
    "mfcc_DIR = './daps-mp3/test/mfccs/'\n",
    "#HP_DIR = './daps-mp3/train/hashprints/'\n",
    "\n",
    "queries = ['queries/' + file[:-4] for file in sorted(os.listdir(mfcc_DIR + 'queries/'))]\n",
    "tamp_025 = ['tampered0.25/' + file[:-4] for file in sorted(os.listdir(mfcc_DIR + 'tampered0.25/'))]\n",
    "tamp_05 = ['tampered0.5/' + file[:-4] for file in sorted(os.listdir(mfcc_DIR + 'tampered0.5/'))]\n",
    "tamp_1 = ['tampered1/' + file[:-4] for file in sorted(os.listdir(mfcc_DIR + 'tampered1/'))]\n",
    "tamp_2 = ['tampered2/' + file[:-4] for file in sorted(os.listdir(mfcc_DIR + 'tampered2/'))]\n",
    "tamp_4 = ['tampered4/' + file[:-4] for file in sorted(os.listdir(mfcc_DIR + 'tampered4/'))]"
   ]
  },
  {
   "cell_type": "code",
   "execution_count": 3,
   "id": "88db5076",
   "metadata": {},
   "outputs": [],
   "source": [
    "#ref_hp_dict = {file[:-10]: np.load(HP_DIR + 'refs/'+file) for file in sorted(os.listdir(HP_DIR + 'refs/'))}\n",
    "ref_mfcc_dict = {file[:-10]: np.load(mfcc_DIR + 'refs/'+file) for file in sorted(os.listdir(mfcc_DIR + 'refs/'))}"
   ]
  },
  {
   "cell_type": "code",
   "execution_count": 4,
   "id": "9ca4bb66",
   "metadata": {},
   "outputs": [],
   "source": [
    "all_queries = queries + tamp_025 + tamp_05 + tamp_1 + tamp_2 + tamp_4"
   ]
  },
  {
   "cell_type": "code",
   "execution_count": 5,
   "id": "cddd7c7f",
   "metadata": {},
   "outputs": [],
   "source": [
    "def calculate_tamper_score(query):\n",
    "    startTime = time.time()\n",
    "    \n",
    "    query_type, query_name = query.split('/')\n",
    "\n",
    "    if query_type == \"queries\":\n",
    "        tamper_type = \"NONE\"\n",
    "        tamper_len = 0.\n",
    "    else:\n",
    "        tamper_type = query_name[:3].upper()\n",
    "        tamper_len = float(query_type[len('tampered'):])\n",
    "    \n",
    "    _, query_no, speaker, script, _ = query_name.split('_')\n",
    "    _, bitrate = query_name.split('-')\n",
    "    ref_name = f'{speaker}_{script}'\n",
    "    \n",
    "    # load query mfcc\n",
    "    query_mfcc = np.load(mfcc_DIR + query + '.npy')\n",
    "    \n",
    "    # load ref mfcc\n",
    "    ref_mfcc = ref_mfcc_dict[ref_name]\n",
    "    \n",
    "    # threshold delta delta and find offset\n",
    "    query_mhps = np.dot(query_mfcc[:,13:] > 0,np.power(2,np.arange(26))[::-1]).tolist()\n",
    "    ref_mhps = np.dot(ref_mfcc[:,13:] > 0,np.power(2,np.arange(26))[::-1]).tolist()\n",
    "    \n",
    "    offset = offset_hps(query_mhps, ref_mhps)\n",
    "    ref_mfcc = ref_mfcc[offset:offset+len(query_mfcc)]\n",
    "    \n",
    "    tamper_score = np.sqrt(np.square(abs(query_mfcc - ref_mfcc)).sum(axis=1)).mean()\n",
    "\n",
    "    \n",
    "    return tamper_type, tamper_len, bitrate, ref_name, query_no, tamper_score"
   ]
  },
  {
   "cell_type": "code",
   "execution_count": 44,
   "id": "d07e26a2",
   "metadata": {
    "collapsed": true
   },
   "outputs": [
    {
     "name": "stdout",
     "output_type": "stream",
     "text": [
      "('NONE', 0.0, '256k', 'm9_script4', '2', 16.193056548413697)\n",
      "('NONE', 0.0, '256k', 'f10_script3', '2', 17.98913843142853)\n",
      "('NONE', 0.0, '64k', 'm6_script2', '8', 17.838492125933474)\n",
      "('NONE', 0.0, '64k', 'f7_script5', '8', 18.664820361904184)\n",
      "('NONE', 0.0, '128k', 'm6_script3', '4', 14.03410113378737)\n",
      "('NONE', 0.0, '256k', 'f8_script2', '4', 15.340184539561587)\n",
      "('NONE', 0.0, '64k', 'm8_script3', '1', 15.359896840277642)\n",
      "('NONE', 0.0, '256k', 'm9_script3', '7', 11.154506158065287)\n",
      "('NONE', 0.0, '64k', 'm10_script1', '4', 15.50058523267706)\n",
      "('NONE', 0.0, '128k', 'm8_script2', '5', 13.031519868925516)\n",
      "('NONE', 0.0, '128k', 'm8_script4', '1', 16.196058340506358)\n",
      "('NONE', 0.0, '64k', 'f7_script2', '1', 18.731694342433297)\n",
      "('NONE', 0.0, '128k', 'm6_script5', '3', 17.80401855283843)\n",
      "('NONE', 0.0, '64k', 'm8_script5', '4', 16.361273875113596)\n",
      "('NONE', 0.0, '128k', 'm6_script2', '1', 15.387513901426049)\n",
      "('NONE', 0.0, '256k', 'f10_script5', '4', 17.586141375632764)\n",
      "('NONE', 0.0, '256k', 'f9_script1', '2', 13.12913559457675)\n",
      "('NONE', 0.0, '64k', 'm9_script1', '4', 12.507937899785588)\n",
      "('NONE', 0.0, '64k', 'f6_script2', '8', 16.289316314967863)\n",
      "('NONE', 0.0, '64k', 'f8_script2', '6', 19.38443665456301)\n"
     ]
    }
   ],
   "source": [
    "for i in np.random.randint(0, len(queries), 20):\n",
    "    print(calculate_tamper_score(queries[i]))"
   ]
  },
  {
   "cell_type": "code",
   "execution_count": 47,
   "id": "a905fc38",
   "metadata": {
    "collapsed": true
   },
   "outputs": [
    {
     "name": "stdout",
     "output_type": "stream",
     "text": [
      "('REP', 4.0, '128k', 'f9_script4', '2', 37.56874234620602)\n",
      "('REP', 4.0, '64k', 'm6_script4', '5', 38.82220898909815)\n",
      "('REP', 4.0, '128k', 'f9_script3', '7', 35.79696786831045)\n",
      "('REP', 4.0, '128k', 'f7_script1', '4', 42.56484274354626)\n",
      "('REP', 4.0, '64k', 'm10_script2', '3', 41.06682098750665)\n",
      "('REP', 4.0, '64k', 'f9_script5', '5', 42.72135584617209)\n",
      "('REP', 4.0, '64k', 'f10_script1', '3', 37.9076425538059)\n",
      "('REP', 4.0, '128k', 'f6_script1', '2', 38.25152672082054)\n",
      "('REP', 4.0, '256k', 'f7_script2', '6', 40.81802115996839)\n",
      "('REP', 4.0, '128k', 'f10_script2', '3', 40.21664471883373)\n",
      "('REP', 4.0, '128k', 'f6_script5', '1', 38.658737500043415)\n",
      "('REP', 4.0, '64k', 'm10_script1', '6', 42.40659018639958)\n",
      "('REP', 4.0, '128k', 'm7_script5', '6', 41.6290202144532)\n",
      "('REP', 4.0, '128k', 'f6_script3', '1', 37.20521977854127)\n",
      "('REP', 4.0, '256k', 'm10_script5', '6', 41.06094696501961)\n",
      "('REP', 4.0, '64k', 'f7_script3', '1', 45.28098368176784)\n",
      "('REP', 4.0, '128k', 'm7_script1', '5', 41.239996148262485)\n",
      "('REP', 4.0, '256k', 'f10_script2', '6', 38.808234814070204)\n",
      "('REP', 4.0, '128k', 'm6_script2', '6', 35.93314073448364)\n",
      "('REP', 4.0, '64k', 'm6_script1', '8', 39.68965077124401)\n"
     ]
    }
   ],
   "source": [
    "for i in np.random.randint(3000, 4500, 20):\n",
    "    print(calculate_tamper_score(tamp_4[i]))"
   ]
  },
  {
   "cell_type": "code",
   "execution_count": 6,
   "id": "834de3b0",
   "metadata": {},
   "outputs": [
    {
     "name": "stderr",
     "output_type": "stream",
     "text": [
      "100%|████████████████████████████████████| 24000/24000 [01:12<00:00, 332.58it/s]\n"
     ]
    }
   ],
   "source": [
    "p = Pool(cpu_count()-1)\n",
    "with p:\n",
    "    results_queries = list(tqdm(p.imap_unordered(calculate_tamper_score, all_queries), total=len(all_queries)))"
   ]
  },
  {
   "cell_type": "code",
   "execution_count": 49,
   "id": "ac777424",
   "metadata": {},
   "outputs": [],
   "source": [
    "df = pd.DataFrame(columns=['type', 'len', 'bitrate', 'ref', 'query_no', 'score'], data=results_queries)"
   ]
  },
  {
   "cell_type": "code",
   "execution_count": 52,
   "id": "a6d461ed",
   "metadata": {},
   "outputs": [],
   "source": [
    "def calculate_eer(fpr, tpr):\n",
    "    '''\n",
    "    requires fpr, tpr output from roc_curve (sklearn.metrics)\n",
    "    Returns the equal error rate for a binary classifier output.\n",
    "    '''\n",
    "    eer = brentq(lambda x : 1. - x - interp1d(fpr, tpr)(x), 0., 1.)\n",
    "    \n",
    "    return eer*100"
   ]
  },
  {
   "cell_type": "code",
   "execution_count": 53,
   "id": "cadc982e",
   "metadata": {},
   "outputs": [],
   "source": [
    "labels = ['INS','DEL','REP','aggregate']\n",
    "tamperlens = [4, 2, 1, 0.5, 0.25, 'aggregate']"
   ]
  },
  {
   "cell_type": "code",
   "execution_count": 56,
   "id": "6a78dd91",
   "metadata": {},
   "outputs": [],
   "source": [
    "def get_eer_table(results_df, bitrate):\n",
    "    \n",
    "    results_df = results_df[results_df[\"bitrate\"] == bitrate]\n",
    "    results_df['truth'] = 1\n",
    "    results_df.loc[results_df['type'] == 'NONE']['truth'] = 0\n",
    "\n",
    "    total = {'tamper_len':tamperlens, 'INS':[] ,'DEL':[] ,'REP':[] ,'aggregate':[]}\n",
    "    for label in labels:\n",
    "        cols = []\n",
    "        if label != 'aggregate':\n",
    "            lab = results_df[(results_df[\"type\"] == label) | (results_df[\"type\"] == 'NONE')]\n",
    "        else:\n",
    "            lab = results_df\n",
    "        \n",
    "        for lens in tamperlens:\n",
    "            if lens != 'aggregate':\n",
    "                len_lab = lab[(lab['len'] == lens) | (lab['len'] == 0)]\n",
    "            else:\n",
    "                len_lab = lab\n",
    "            fpr, tpr, thresholds = roc_curve(len_lab['truth'], len_lab['score'])\n",
    "            eer = calculate_eer(fpr, tpr)\n",
    "            cols.append(eer)\n",
    "            \n",
    "        total[label]=cols\n",
    "        \n",
    "    df = results_df.astype(str)\n",
    "    df = df.style.set_caption('bitrate: '+ str(bitrate)).hide_index()\n",
    "    df = pd.DataFrame(data=total)\n",
    "    display(df) \n",
    "    \n",
    "    return df"
   ]
  },
  {
   "cell_type": "code",
   "execution_count": 59,
   "id": "0021aed1",
   "metadata": {},
   "outputs": [
    {
     "name": "stderr",
     "output_type": "stream",
     "text": [
      "/tmp/ipykernel_2739640/355482606.py:5: SettingWithCopyWarning: \n",
      "A value is trying to be set on a copy of a slice from a DataFrame.\n",
      "Try using .loc[row_indexer,col_indexer] = value instead\n",
      "\n",
      "See the caveats in the documentation: https://pandas.pydata.org/pandas-docs/stable/user_guide/indexing.html#returning-a-view-versus-a-copy\n",
      "  results_df.loc[results_df['type'] != 'NONE', 'truth'] = 1\n",
      "/tmp/ipykernel_2739640/355482606.py:28: FutureWarning: this method is deprecated in favour of `Styler.hide(axis='index')`\n",
      "  df = df.style.set_caption('bitrate: '+ str(bitrate)).hide_index()\n"
     ]
    },
    {
     "data": {
      "text/html": [
       "<div>\n",
       "<style scoped>\n",
       "    .dataframe tbody tr th:only-of-type {\n",
       "        vertical-align: middle;\n",
       "    }\n",
       "\n",
       "    .dataframe tbody tr th {\n",
       "        vertical-align: top;\n",
       "    }\n",
       "\n",
       "    .dataframe thead th {\n",
       "        text-align: right;\n",
       "    }\n",
       "</style>\n",
       "<table border=\"1\" class=\"dataframe\">\n",
       "  <thead>\n",
       "    <tr style=\"text-align: right;\">\n",
       "      <th></th>\n",
       "      <th>tamper_len</th>\n",
       "      <th>INS</th>\n",
       "      <th>DEL</th>\n",
       "      <th>REP</th>\n",
       "      <th>aggregate</th>\n",
       "    </tr>\n",
       "  </thead>\n",
       "  <tbody>\n",
       "    <tr>\n",
       "      <th>0</th>\n",
       "      <td>4</td>\n",
       "      <td>0.00</td>\n",
       "      <td>0.4</td>\n",
       "      <td>0.00</td>\n",
       "      <td>0.133333</td>\n",
       "    </tr>\n",
       "    <tr>\n",
       "      <th>1</th>\n",
       "      <td>2</td>\n",
       "      <td>0.20</td>\n",
       "      <td>1.6</td>\n",
       "      <td>1.20</td>\n",
       "      <td>1.000000</td>\n",
       "    </tr>\n",
       "    <tr>\n",
       "      <th>2</th>\n",
       "      <td>1</td>\n",
       "      <td>1.60</td>\n",
       "      <td>2.0</td>\n",
       "      <td>12.00</td>\n",
       "      <td>6.200000</td>\n",
       "    </tr>\n",
       "    <tr>\n",
       "      <th>3</th>\n",
       "      <td>0.5</td>\n",
       "      <td>4.60</td>\n",
       "      <td>2.2</td>\n",
       "      <td>29.40</td>\n",
       "      <td>14.800000</td>\n",
       "    </tr>\n",
       "    <tr>\n",
       "      <th>4</th>\n",
       "      <td>0.25</td>\n",
       "      <td>5.40</td>\n",
       "      <td>3.2</td>\n",
       "      <td>39.80</td>\n",
       "      <td>19.800000</td>\n",
       "    </tr>\n",
       "    <tr>\n",
       "      <th>5</th>\n",
       "      <td>aggregate</td>\n",
       "      <td>2.72</td>\n",
       "      <td>2.0</td>\n",
       "      <td>19.56</td>\n",
       "      <td>9.173333</td>\n",
       "    </tr>\n",
       "  </tbody>\n",
       "</table>\n",
       "</div>"
      ],
      "text/plain": [
       "  tamper_len   INS  DEL    REP  aggregate\n",
       "0          4  0.00  0.4   0.00   0.133333\n",
       "1          2  0.20  1.6   1.20   1.000000\n",
       "2          1  1.60  2.0  12.00   6.200000\n",
       "3        0.5  4.60  2.2  29.40  14.800000\n",
       "4       0.25  5.40  3.2  39.80  19.800000\n",
       "5  aggregate  2.72  2.0  19.56   9.173333"
      ]
     },
     "metadata": {},
     "output_type": "display_data"
    }
   ],
   "source": [
    "first = get_eer_table(df, '256k')"
   ]
  },
  {
   "cell_type": "code",
   "execution_count": 60,
   "id": "81d88760",
   "metadata": {},
   "outputs": [
    {
     "name": "stderr",
     "output_type": "stream",
     "text": [
      "/tmp/ipykernel_2739640/355482606.py:5: SettingWithCopyWarning: \n",
      "A value is trying to be set on a copy of a slice from a DataFrame.\n",
      "Try using .loc[row_indexer,col_indexer] = value instead\n",
      "\n",
      "See the caveats in the documentation: https://pandas.pydata.org/pandas-docs/stable/user_guide/indexing.html#returning-a-view-versus-a-copy\n",
      "  results_df.loc[results_df['type'] != 'NONE', 'truth'] = 1\n",
      "/tmp/ipykernel_2739640/355482606.py:28: FutureWarning: this method is deprecated in favour of `Styler.hide(axis='index')`\n",
      "  df = df.style.set_caption('bitrate: '+ str(bitrate)).hide_index()\n"
     ]
    },
    {
     "data": {
      "text/html": [
       "<div>\n",
       "<style scoped>\n",
       "    .dataframe tbody tr th:only-of-type {\n",
       "        vertical-align: middle;\n",
       "    }\n",
       "\n",
       "    .dataframe tbody tr th {\n",
       "        vertical-align: top;\n",
       "    }\n",
       "\n",
       "    .dataframe thead th {\n",
       "        text-align: right;\n",
       "    }\n",
       "</style>\n",
       "<table border=\"1\" class=\"dataframe\">\n",
       "  <thead>\n",
       "    <tr style=\"text-align: right;\">\n",
       "      <th></th>\n",
       "      <th>tamper_len</th>\n",
       "      <th>INS</th>\n",
       "      <th>DEL</th>\n",
       "      <th>REP</th>\n",
       "      <th>aggregate</th>\n",
       "    </tr>\n",
       "  </thead>\n",
       "  <tbody>\n",
       "    <tr>\n",
       "      <th>0</th>\n",
       "      <td>4</td>\n",
       "      <td>0.00</td>\n",
       "      <td>0.40</td>\n",
       "      <td>0.00</td>\n",
       "      <td>0.133333</td>\n",
       "    </tr>\n",
       "    <tr>\n",
       "      <th>1</th>\n",
       "      <td>2</td>\n",
       "      <td>0.20</td>\n",
       "      <td>1.60</td>\n",
       "      <td>1.00</td>\n",
       "      <td>0.933333</td>\n",
       "    </tr>\n",
       "    <tr>\n",
       "      <th>2</th>\n",
       "      <td>1</td>\n",
       "      <td>1.40</td>\n",
       "      <td>1.80</td>\n",
       "      <td>12.00</td>\n",
       "      <td>5.933333</td>\n",
       "    </tr>\n",
       "    <tr>\n",
       "      <th>3</th>\n",
       "      <td>0.5</td>\n",
       "      <td>4.60</td>\n",
       "      <td>2.00</td>\n",
       "      <td>30.00</td>\n",
       "      <td>14.600000</td>\n",
       "    </tr>\n",
       "    <tr>\n",
       "      <th>4</th>\n",
       "      <td>0.25</td>\n",
       "      <td>5.40</td>\n",
       "      <td>3.00</td>\n",
       "      <td>39.80</td>\n",
       "      <td>19.666667</td>\n",
       "    </tr>\n",
       "    <tr>\n",
       "      <th>5</th>\n",
       "      <td>aggregate</td>\n",
       "      <td>2.56</td>\n",
       "      <td>1.88</td>\n",
       "      <td>19.48</td>\n",
       "      <td>9.000000</td>\n",
       "    </tr>\n",
       "  </tbody>\n",
       "</table>\n",
       "</div>"
      ],
      "text/plain": [
       "  tamper_len   INS   DEL    REP  aggregate\n",
       "0          4  0.00  0.40   0.00   0.133333\n",
       "1          2  0.20  1.60   1.00   0.933333\n",
       "2          1  1.40  1.80  12.00   5.933333\n",
       "3        0.5  4.60  2.00  30.00  14.600000\n",
       "4       0.25  5.40  3.00  39.80  19.666667\n",
       "5  aggregate  2.56  1.88  19.48   9.000000"
      ]
     },
     "metadata": {},
     "output_type": "display_data"
    }
   ],
   "source": [
    "first = get_eer_table(df, '128k')"
   ]
  },
  {
   "cell_type": "code",
   "execution_count": 61,
   "id": "e908fa97",
   "metadata": {},
   "outputs": [
    {
     "name": "stderr",
     "output_type": "stream",
     "text": [
      "/tmp/ipykernel_2739640/355482606.py:5: SettingWithCopyWarning: \n",
      "A value is trying to be set on a copy of a slice from a DataFrame.\n",
      "Try using .loc[row_indexer,col_indexer] = value instead\n",
      "\n",
      "See the caveats in the documentation: https://pandas.pydata.org/pandas-docs/stable/user_guide/indexing.html#returning-a-view-versus-a-copy\n",
      "  results_df.loc[results_df['type'] != 'NONE', 'truth'] = 1\n",
      "/tmp/ipykernel_2739640/355482606.py:28: FutureWarning: this method is deprecated in favour of `Styler.hide(axis='index')`\n",
      "  df = df.style.set_caption('bitrate: '+ str(bitrate)).hide_index()\n"
     ]
    },
    {
     "data": {
      "text/html": [
       "<div>\n",
       "<style scoped>\n",
       "    .dataframe tbody tr th:only-of-type {\n",
       "        vertical-align: middle;\n",
       "    }\n",
       "\n",
       "    .dataframe tbody tr th {\n",
       "        vertical-align: top;\n",
       "    }\n",
       "\n",
       "    .dataframe thead th {\n",
       "        text-align: right;\n",
       "    }\n",
       "</style>\n",
       "<table border=\"1\" class=\"dataframe\">\n",
       "  <thead>\n",
       "    <tr style=\"text-align: right;\">\n",
       "      <th></th>\n",
       "      <th>tamper_len</th>\n",
       "      <th>INS</th>\n",
       "      <th>DEL</th>\n",
       "      <th>REP</th>\n",
       "      <th>aggregate</th>\n",
       "    </tr>\n",
       "  </thead>\n",
       "  <tbody>\n",
       "    <tr>\n",
       "      <th>0</th>\n",
       "      <td>4</td>\n",
       "      <td>0.0</td>\n",
       "      <td>0.20</td>\n",
       "      <td>0.0</td>\n",
       "      <td>0.066667</td>\n",
       "    </tr>\n",
       "    <tr>\n",
       "      <th>1</th>\n",
       "      <td>2</td>\n",
       "      <td>0.2</td>\n",
       "      <td>1.00</td>\n",
       "      <td>0.4</td>\n",
       "      <td>0.533333</td>\n",
       "    </tr>\n",
       "    <tr>\n",
       "      <th>2</th>\n",
       "      <td>1</td>\n",
       "      <td>1.0</td>\n",
       "      <td>1.80</td>\n",
       "      <td>10.0</td>\n",
       "      <td>5.133333</td>\n",
       "    </tr>\n",
       "    <tr>\n",
       "      <th>3</th>\n",
       "      <td>0.5</td>\n",
       "      <td>3.8</td>\n",
       "      <td>1.80</td>\n",
       "      <td>27.6</td>\n",
       "      <td>13.733333</td>\n",
       "    </tr>\n",
       "    <tr>\n",
       "      <th>4</th>\n",
       "      <td>0.25</td>\n",
       "      <td>4.8</td>\n",
       "      <td>2.60</td>\n",
       "      <td>38.8</td>\n",
       "      <td>18.933333</td>\n",
       "    </tr>\n",
       "    <tr>\n",
       "      <th>5</th>\n",
       "      <td>aggregate</td>\n",
       "      <td>2.2</td>\n",
       "      <td>1.52</td>\n",
       "      <td>18.8</td>\n",
       "      <td>8.800000</td>\n",
       "    </tr>\n",
       "  </tbody>\n",
       "</table>\n",
       "</div>"
      ],
      "text/plain": [
       "  tamper_len  INS   DEL   REP  aggregate\n",
       "0          4  0.0  0.20   0.0   0.066667\n",
       "1          2  0.2  1.00   0.4   0.533333\n",
       "2          1  1.0  1.80  10.0   5.133333\n",
       "3        0.5  3.8  1.80  27.6  13.733333\n",
       "4       0.25  4.8  2.60  38.8  18.933333\n",
       "5  aggregate  2.2  1.52  18.8   8.800000"
      ]
     },
     "metadata": {},
     "output_type": "display_data"
    }
   ],
   "source": [
    "first = get_eer_table(df, '64k')"
   ]
  },
  {
   "cell_type": "code",
   "execution_count": null,
   "id": "36f4105a",
   "metadata": {},
   "outputs": [],
   "source": []
  }
 ],
 "metadata": {
  "kernelspec": {
   "display_name": "Python 3 (ipykernel)",
   "language": "python",
   "name": "python3"
  },
  "language_info": {
   "codemirror_mode": {
    "name": "ipython",
    "version": 3
   },
   "file_extension": ".py",
   "mimetype": "text/x-python",
   "name": "python",
   "nbconvert_exporter": "python",
   "pygments_lexer": "ipython3",
   "version": "3.9.12"
  }
 },
 "nbformat": 4,
 "nbformat_minor": 5
}
