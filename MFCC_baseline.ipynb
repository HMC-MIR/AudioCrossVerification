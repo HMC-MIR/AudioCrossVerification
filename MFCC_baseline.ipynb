{
 "cells": [
  {
   "cell_type": "markdown",
   "id": "675526d8",
   "metadata": {},
   "source": [
    "# MFCC-Euclidean baseline"
   ]
  },
  {
   "cell_type": "code",
   "execution_count": 1,
   "id": "109961a1",
   "metadata": {},
   "outputs": [],
   "source": [
    "import numpy as np\n",
    "import pickle\n",
    "import librosa\n",
    "from scipy.spatial.distance import cdist\n",
    "import python_speech_features\n",
    "import numba\n",
    "from matplotlib import pyplot as plt\n",
    "from matplotlib import gridspec\n",
    "import time\n",
    "import os\n",
    "import pandas as pd\n",
    "import glob\n",
    "from tqdm import tqdm\n",
    "from multiprocessing import Pool\n",
    "from multiprocessing import cpu_count\n",
    "from scipy.optimize import brentq\n",
    "from scipy.interpolate import interp1d\n",
    "from sklearn.metrics import roc_curve, auc\n",
    "from offset import find_offset as offset_hps\n",
    "import random\n",
    "from eer_utils import *"
   ]
  },
  {
   "cell_type": "code",
   "execution_count": 2,
   "id": "80389eac",
   "metadata": {},
   "outputs": [],
   "source": [
    "mfcc_DIR = './daps-mp3/test/mfccs/'\n",
    "#HP_DIR = './daps-mp3/train/hashprints/'\n",
    "\n",
    "queries = ['queries/' + file[:-4] for file in sorted(os.listdir(mfcc_DIR + 'queries/'))]\n",
    "tamp_025 = ['tampered0.25/' + file[:-4] for file in sorted(os.listdir(mfcc_DIR + 'tampered0.25/'))]\n",
    "tamp_05 = ['tampered0.5/' + file[:-4] for file in sorted(os.listdir(mfcc_DIR + 'tampered0.5/'))]\n",
    "tamp_1 = ['tampered1/' + file[:-4] for file in sorted(os.listdir(mfcc_DIR + 'tampered1/'))]\n",
    "tamp_2 = ['tampered2/' + file[:-4] for file in sorted(os.listdir(mfcc_DIR + 'tampered2/'))]\n",
    "tamp_4 = ['tampered4/' + file[:-4] for file in sorted(os.listdir(mfcc_DIR + 'tampered4/'))]"
   ]
  },
  {
   "cell_type": "code",
   "execution_count": 3,
   "id": "88db5076",
   "metadata": {},
   "outputs": [],
   "source": [
    "#ref_hp_dict = {file[:-10]: np.load(HP_DIR + 'refs/'+file) for file in sorted(os.listdir(HP_DIR + 'refs/'))}\n",
    "ref_mfcc_dict = {file[:-10]: np.load(mfcc_DIR + 'refs/'+file) for file in sorted(os.listdir(mfcc_DIR + 'refs/'))}"
   ]
  },
  {
   "cell_type": "code",
   "execution_count": 4,
   "id": "9ca4bb66",
   "metadata": {},
   "outputs": [],
   "source": [
    "all_queries = queries + tamp_025 + tamp_05 + tamp_1 + tamp_2 + tamp_4"
   ]
  },
  {
   "cell_type": "code",
   "execution_count": 5,
   "id": "cddd7c7f",
   "metadata": {},
   "outputs": [],
   "source": [
    "def calculate_tamper_score(query):\n",
    "    startTime = time.time()\n",
    "    \n",
    "    query_type, query_name = query.split('/')\n",
    "\n",
    "    if query_type == \"queries\":\n",
    "        tamper_type = \"NONE\"\n",
    "        tamper_len = 0.\n",
    "    else:\n",
    "        tamper_type = query_name[:3].upper()\n",
    "        tamper_len = float(query_type[len('tampered'):])\n",
    "    \n",
    "    _, query_no, speaker, script, _ = query_name.split('_')\n",
    "    _, bitrate = query_name.split('-')\n",
    "    ref_name = f'{speaker}_{script}'\n",
    "    \n",
    "    # load query mfcc\n",
    "    query_mfcc = np.load(mfcc_DIR + query + '.npy')\n",
    "    \n",
    "    # load ref mfcc\n",
    "    ref_mfcc = ref_mfcc_dict[ref_name]\n",
    "    \n",
    "    # threshold delta delta and find offset\n",
    "    query_mhps = np.dot(query_mfcc[:,13:] > 0,np.power(2,np.arange(26))[::-1]).tolist()\n",
    "    ref_mhps = np.dot(ref_mfcc[:,13:] > 0,np.power(2,np.arange(26))[::-1]).tolist()\n",
    "    \n",
    "    offset = offset_hps(query_mhps, ref_mhps)\n",
    "    ref_mfcc = ref_mfcc[offset:offset+len(query_mfcc)]\n",
    "    \n",
    "    tamper_score = np.sqrt(np.square(abs(query_mfcc - ref_mfcc)).sum(axis=1)).mean()\n",
    "\n",
    "    \n",
    "    return tamper_type, tamper_len, bitrate, ref_name, query_no, tamper_score"
   ]
  },
  {
   "cell_type": "code",
   "execution_count": 6,
   "id": "d07e26a2",
   "metadata": {},
   "outputs": [
    {
     "name": "stdout",
     "output_type": "stream",
     "text": [
      "('NONE', 0.0, '256k', 'f10_script3', '9', 16.820102239578258)\n",
      "('NONE', 0.0, '128k', 'f7_script4', '9', 13.726691248067652)\n",
      "('NONE', 0.0, '256k', 'f6_script2', '6', 14.573975353535104)\n",
      "('NONE', 0.0, '128k', 'f8_script3', '0', 17.396563890313153)\n",
      "('NONE', 0.0, '256k', 'f10_script5', '8', 16.532210279557)\n",
      "('NONE', 0.0, '64k', 'f6_script4', '5', 14.74676736159454)\n",
      "('NONE', 0.0, '256k', 'f6_script3', '4', 14.152366870367258)\n",
      "('NONE', 0.0, '256k', 'm10_script3', '4', 15.793534201849821)\n",
      "('NONE', 0.0, '64k', 'm9_script2', '5', 13.940201919525101)\n",
      "('NONE', 0.0, '64k', 'm8_script4', '7', 15.6983304663547)\n"
     ]
    }
   ],
   "source": [
    "for i in np.random.randint(0, len(queries), 10):\n",
    "    print(calculate_tamper_score(queries[i]))"
   ]
  },
  {
   "cell_type": "code",
   "execution_count": 7,
   "id": "a905fc38",
   "metadata": {},
   "outputs": [
    {
     "name": "stdout",
     "output_type": "stream",
     "text": [
      "('REP', 4.0, '128k', 'f8_script4', '0', 39.603303435407675)\n",
      "('REP', 4.0, '256k', 'f9_script2', '1', 41.883873592061825)\n",
      "('REP', 4.0, '64k', 'm9_script5', '2', 37.03723005155455)\n",
      "('REP', 4.0, '128k', 'm6_script2', '1', 40.99096867794243)\n",
      "('REP', 4.0, '64k', 'm7_script3', '3', 44.573093434086076)\n",
      "('REP', 4.0, '128k', 'm7_script5', '4', 39.57301161961814)\n",
      "('REP', 4.0, '128k', 'm10_script1', '5', 41.028615028691554)\n",
      "('REP', 4.0, '64k', 'f9_script5', '8', 40.81482103263883)\n",
      "('REP', 4.0, '256k', 'm7_script4', '5', 40.07505359379813)\n",
      "('REP', 4.0, '64k', 'm6_script3', '1', 40.55032964717711)\n"
     ]
    }
   ],
   "source": [
    "for i in np.random.randint(3000, 4500, 10):\n",
    "    print(calculate_tamper_score(tamp_4[i]))"
   ]
  },
  {
   "cell_type": "code",
   "execution_count": 9,
   "id": "834de3b0",
   "metadata": {},
   "outputs": [
    {
     "name": "stderr",
     "output_type": "stream",
     "text": [
      "100%|████████████████████████████████████| 24000/24000 [01:05<00:00, 367.54it/s]\n"
     ]
    }
   ],
   "source": [
    "p = Pool(cpu_count()-1)\n",
    "with p:\n",
    "    results_queries = list(tqdm(p.imap_unordered(calculate_tamper_score, all_queries), total=len(all_queries)))"
   ]
  },
  {
   "cell_type": "code",
   "execution_count": 10,
   "id": "ac777424",
   "metadata": {},
   "outputs": [],
   "source": [
    "df = pd.DataFrame(columns=['type', 'len', 'bitrate', 'ref', 'query_no', 'score'], data=results_queries)"
   ]
  },
  {
   "cell_type": "code",
   "execution_count": 15,
   "id": "8697aaf7",
   "metadata": {},
   "outputs": [],
   "source": [
    "outdir = 'baseline'\n",
    "os.makedirs(f'./daps-mp3/results/{outdir}', exist_ok=True)\n",
    "df.to_csv(f'./daps-mp3/results/{outdir}/baseline_test.csv')"
   ]
  },
  {
   "cell_type": "code",
   "execution_count": 4,
   "id": "92dd74f2",
   "metadata": {},
   "outputs": [],
   "source": [
    "outdir = 'baseline'\n",
    "df = pd.read_csv(f'./daps-mp3/results/{outdir}/baseline_test.csv', index_col=0)"
   ]
  },
  {
   "cell_type": "code",
   "execution_count": 5,
   "id": "0021aed1",
   "metadata": {},
   "outputs": [
    {
     "data": {
      "text/html": [
       "<div>\n",
       "<style scoped>\n",
       "    .dataframe tbody tr th:only-of-type {\n",
       "        vertical-align: middle;\n",
       "    }\n",
       "\n",
       "    .dataframe tbody tr th {\n",
       "        vertical-align: top;\n",
       "    }\n",
       "\n",
       "    .dataframe thead th {\n",
       "        text-align: right;\n",
       "    }\n",
       "</style>\n",
       "<table border=\"1\" class=\"dataframe\">\n",
       "  <thead>\n",
       "    <tr style=\"text-align: right;\">\n",
       "      <th></th>\n",
       "      <th>tamper_len</th>\n",
       "      <th>INS</th>\n",
       "      <th>DEL</th>\n",
       "      <th>REP</th>\n",
       "      <th>aggregate</th>\n",
       "    </tr>\n",
       "  </thead>\n",
       "  <tbody>\n",
       "    <tr>\n",
       "      <th>0</th>\n",
       "      <td>4</td>\n",
       "      <td>0.00</td>\n",
       "      <td>0.4</td>\n",
       "      <td>0.00</td>\n",
       "      <td>0.133333</td>\n",
       "    </tr>\n",
       "    <tr>\n",
       "      <th>1</th>\n",
       "      <td>2</td>\n",
       "      <td>0.20</td>\n",
       "      <td>1.6</td>\n",
       "      <td>1.20</td>\n",
       "      <td>1.000000</td>\n",
       "    </tr>\n",
       "    <tr>\n",
       "      <th>2</th>\n",
       "      <td>1</td>\n",
       "      <td>1.60</td>\n",
       "      <td>2.0</td>\n",
       "      <td>12.00</td>\n",
       "      <td>6.200000</td>\n",
       "    </tr>\n",
       "    <tr>\n",
       "      <th>3</th>\n",
       "      <td>0.5</td>\n",
       "      <td>4.60</td>\n",
       "      <td>2.2</td>\n",
       "      <td>29.40</td>\n",
       "      <td>14.800000</td>\n",
       "    </tr>\n",
       "    <tr>\n",
       "      <th>4</th>\n",
       "      <td>0.25</td>\n",
       "      <td>5.40</td>\n",
       "      <td>3.2</td>\n",
       "      <td>39.80</td>\n",
       "      <td>19.800000</td>\n",
       "    </tr>\n",
       "    <tr>\n",
       "      <th>5</th>\n",
       "      <td>aggregate</td>\n",
       "      <td>2.72</td>\n",
       "      <td>2.0</td>\n",
       "      <td>19.56</td>\n",
       "      <td>9.173333</td>\n",
       "    </tr>\n",
       "  </tbody>\n",
       "</table>\n",
       "</div>"
      ],
      "text/plain": [
       "  tamper_len   INS  DEL    REP  aggregate\n",
       "0          4  0.00  0.4   0.00   0.133333\n",
       "1          2  0.20  1.6   1.20   1.000000\n",
       "2          1  1.60  2.0  12.00   6.200000\n",
       "3        0.5  4.60  2.2  29.40  14.800000\n",
       "4       0.25  5.40  3.2  39.80  19.800000\n",
       "5  aggregate  2.72  2.0  19.56   9.173333"
      ]
     },
     "metadata": {},
     "output_type": "display_data"
    },
    {
     "data": {
      "text/html": [
       "<div>\n",
       "<style scoped>\n",
       "    .dataframe tbody tr th:only-of-type {\n",
       "        vertical-align: middle;\n",
       "    }\n",
       "\n",
       "    .dataframe tbody tr th {\n",
       "        vertical-align: top;\n",
       "    }\n",
       "\n",
       "    .dataframe thead th {\n",
       "        text-align: right;\n",
       "    }\n",
       "</style>\n",
       "<table border=\"1\" class=\"dataframe\">\n",
       "  <thead>\n",
       "    <tr style=\"text-align: right;\">\n",
       "      <th></th>\n",
       "      <th>tamper_len</th>\n",
       "      <th>INS</th>\n",
       "      <th>DEL</th>\n",
       "      <th>REP</th>\n",
       "      <th>aggregate</th>\n",
       "    </tr>\n",
       "  </thead>\n",
       "  <tbody>\n",
       "    <tr>\n",
       "      <th>0</th>\n",
       "      <td>4</td>\n",
       "      <td>0.00</td>\n",
       "      <td>0.4</td>\n",
       "      <td>0.00</td>\n",
       "      <td>0.133333</td>\n",
       "    </tr>\n",
       "    <tr>\n",
       "      <th>1</th>\n",
       "      <td>2</td>\n",
       "      <td>0.20</td>\n",
       "      <td>1.6</td>\n",
       "      <td>1.20</td>\n",
       "      <td>1.000000</td>\n",
       "    </tr>\n",
       "    <tr>\n",
       "      <th>2</th>\n",
       "      <td>1</td>\n",
       "      <td>1.60</td>\n",
       "      <td>2.0</td>\n",
       "      <td>12.00</td>\n",
       "      <td>6.200000</td>\n",
       "    </tr>\n",
       "    <tr>\n",
       "      <th>3</th>\n",
       "      <td>0.5</td>\n",
       "      <td>4.60</td>\n",
       "      <td>2.2</td>\n",
       "      <td>29.40</td>\n",
       "      <td>14.800000</td>\n",
       "    </tr>\n",
       "    <tr>\n",
       "      <th>4</th>\n",
       "      <td>0.25</td>\n",
       "      <td>5.40</td>\n",
       "      <td>3.2</td>\n",
       "      <td>39.80</td>\n",
       "      <td>19.800000</td>\n",
       "    </tr>\n",
       "    <tr>\n",
       "      <th>5</th>\n",
       "      <td>aggregate</td>\n",
       "      <td>2.72</td>\n",
       "      <td>2.0</td>\n",
       "      <td>19.56</td>\n",
       "      <td>9.173333</td>\n",
       "    </tr>\n",
       "  </tbody>\n",
       "</table>\n",
       "</div>"
      ],
      "text/plain": [
       "  tamper_len   INS  DEL    REP  aggregate\n",
       "0          4  0.00  0.4   0.00   0.133333\n",
       "1          2  0.20  1.6   1.20   1.000000\n",
       "2          1  1.60  2.0  12.00   6.200000\n",
       "3        0.5  4.60  2.2  29.40  14.800000\n",
       "4       0.25  5.40  3.2  39.80  19.800000\n",
       "5  aggregate  2.72  2.0  19.56   9.173333"
      ]
     },
     "metadata": {},
     "output_type": "display_data"
    },
    {
     "data": {
      "text/html": [
       "<div>\n",
       "<style scoped>\n",
       "    .dataframe tbody tr th:only-of-type {\n",
       "        vertical-align: middle;\n",
       "    }\n",
       "\n",
       "    .dataframe tbody tr th {\n",
       "        vertical-align: top;\n",
       "    }\n",
       "\n",
       "    .dataframe thead th {\n",
       "        text-align: right;\n",
       "    }\n",
       "</style>\n",
       "<table border=\"1\" class=\"dataframe\">\n",
       "  <thead>\n",
       "    <tr style=\"text-align: right;\">\n",
       "      <th></th>\n",
       "      <th>tamper_len</th>\n",
       "      <th>INS</th>\n",
       "      <th>DEL</th>\n",
       "      <th>REP</th>\n",
       "      <th>aggregate</th>\n",
       "    </tr>\n",
       "  </thead>\n",
       "  <tbody>\n",
       "    <tr>\n",
       "      <th>0</th>\n",
       "      <td>4</td>\n",
       "      <td>0.00</td>\n",
       "      <td>0.4</td>\n",
       "      <td>0.00</td>\n",
       "      <td>0.133333</td>\n",
       "    </tr>\n",
       "    <tr>\n",
       "      <th>1</th>\n",
       "      <td>2</td>\n",
       "      <td>0.20</td>\n",
       "      <td>1.6</td>\n",
       "      <td>1.20</td>\n",
       "      <td>1.000000</td>\n",
       "    </tr>\n",
       "    <tr>\n",
       "      <th>2</th>\n",
       "      <td>1</td>\n",
       "      <td>1.60</td>\n",
       "      <td>2.0</td>\n",
       "      <td>12.00</td>\n",
       "      <td>6.200000</td>\n",
       "    </tr>\n",
       "    <tr>\n",
       "      <th>3</th>\n",
       "      <td>0.5</td>\n",
       "      <td>4.60</td>\n",
       "      <td>2.2</td>\n",
       "      <td>29.40</td>\n",
       "      <td>14.800000</td>\n",
       "    </tr>\n",
       "    <tr>\n",
       "      <th>4</th>\n",
       "      <td>0.25</td>\n",
       "      <td>5.40</td>\n",
       "      <td>3.2</td>\n",
       "      <td>39.80</td>\n",
       "      <td>19.800000</td>\n",
       "    </tr>\n",
       "    <tr>\n",
       "      <th>5</th>\n",
       "      <td>aggregate</td>\n",
       "      <td>2.72</td>\n",
       "      <td>2.0</td>\n",
       "      <td>19.56</td>\n",
       "      <td>9.173333</td>\n",
       "    </tr>\n",
       "  </tbody>\n",
       "</table>\n",
       "</div>"
      ],
      "text/plain": [
       "  tamper_len   INS  DEL    REP  aggregate\n",
       "0          4  0.00  0.4   0.00   0.133333\n",
       "1          2  0.20  1.6   1.20   1.000000\n",
       "2          1  1.60  2.0  12.00   6.200000\n",
       "3        0.5  4.60  2.2  29.40  14.800000\n",
       "4       0.25  5.40  3.2  39.80  19.800000\n",
       "5  aggregate  2.72  2.0  19.56   9.173333"
      ]
     },
     "metadata": {},
     "output_type": "display_data"
    }
   ],
   "source": [
    "for bitrate in ['256k', '128k', '64k']:\n",
    "    get_eer_table(df, '256k')"
   ]
  },
  {
   "cell_type": "code",
   "execution_count": null,
   "id": "36f4105a",
   "metadata": {},
   "outputs": [],
   "source": []
  }
 ],
 "metadata": {
  "kernelspec": {
   "display_name": "Python 3 (ipykernel)",
   "language": "python",
   "name": "python3"
  },
  "language_info": {
   "codemirror_mode": {
    "name": "ipython",
    "version": 3
   },
   "file_extension": ".py",
   "mimetype": "text/x-python",
   "name": "python",
   "nbconvert_exporter": "python",
   "pygments_lexer": "ipython3",
   "version": "3.9.12"
  }
 },
 "nbformat": 4,
 "nbformat_minor": 5
}
